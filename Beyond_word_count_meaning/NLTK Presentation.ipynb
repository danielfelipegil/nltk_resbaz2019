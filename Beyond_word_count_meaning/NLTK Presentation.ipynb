{
 "cells": [
  {
   "cell_type": "markdown",
   "metadata": {
    "colab_type": "text",
    "id": "cQAUKUiAR2eX"
   },
   "source": [
    "**Using NLTK**\n",
    "\n",
    "First import\n",
    "\n",
    "Then download"
   ]
  },
  {
   "cell_type": "code",
   "execution_count": 1,
   "metadata": {
    "colab": {
     "base_uri": "https://localhost:8080/",
     "height": 139
    },
    "colab_type": "code",
    "executionInfo": {
     "elapsed": 3152,
     "status": "ok",
     "timestamp": 1550707765784,
     "user": {
      "displayName": "Emma Baillie",
      "photoUrl": "",
      "userId": "00010950981291118989"
     },
     "user_tz": -660
    },
    "id": "w3ZFFFcZo_2_",
    "outputId": "79739208-c04e-4132-9220-742c4dca8582"
   },
   "outputs": [
    {
     "name": "stdout",
     "output_type": "stream",
     "text": [
      "[nltk_data] Downloading package punkt to\n",
      "[nltk_data]     C:\\Users\\Emma\\AppData\\Roaming\\nltk_data...\n",
      "[nltk_data]   Package punkt is already up-to-date!\n",
      "[nltk_data] Downloading package stopwords to\n",
      "[nltk_data]     C:\\Users\\Emma\\AppData\\Roaming\\nltk_data...\n",
      "[nltk_data]   Package stopwords is already up-to-date!\n",
      "[nltk_data] Downloading package wordnet to\n",
      "[nltk_data]     C:\\Users\\Emma\\AppData\\Roaming\\nltk_data...\n",
      "[nltk_data]   Package wordnet is already up-to-date!\n"
     ]
    },
    {
     "data": {
      "text/plain": [
       "True"
      ]
     },
     "execution_count": 1,
     "metadata": {},
     "output_type": "execute_result"
    }
   ],
   "source": [
    "import nltk\n",
    "from nltk.corpus import wordnet as wn\n",
    "\n",
    "#punkt word and sentence tokenizer\n",
    "nltk.download('punkt')\n",
    "\n",
    "#very common words\n",
    "nltk.download('stopwords')\n",
    "\n",
    "#wordnet lexical database of English\n",
    "nltk.download('wordnet')\n",
    "\n"
   ]
  },
  {
   "cell_type": "markdown",
   "metadata": {
    "colab_type": "text",
    "id": "qLGguaBKTjQr"
   },
   "source": [
    "**What is a dog?**\n",
    "\n",
    "A synset is a set of synonyms - all the meanings that 'dog' could have\n",
    "\n",
    "Each sysnset is labelled: word, part of speech, number (place in the list of possible meanings)\n"
   ]
  },
  {
   "cell_type": "code",
   "execution_count": 2,
   "metadata": {
    "colab": {
     "base_uri": "https://localhost:8080/",
     "height": 211
    },
    "colab_type": "code",
    "executionInfo": {
     "elapsed": 2838,
     "status": "ok",
     "timestamp": 1550707831004,
     "user": {
      "displayName": "Emma Baillie",
      "photoUrl": "",
      "userId": "00010950981291118989"
     },
     "user_tz": -660
    },
    "id": "EdjpzJnKyP7a",
    "outputId": "405bf00c-6fe4-49e4-fd8b-8596e0c3a550"
   },
   "outputs": [
    {
     "name": "stdout",
     "output_type": "stream",
     "text": [
      "[Synset('dog.n.01'), Synset('frump.n.01'), Synset('dog.n.03'), Synset('cad.n.01'), Synset('frank.n.02'), Synset('pawl.n.01'), Synset('andiron.n.01'), Synset('chase.v.01')]\n",
      "\n",
      "a member of the genus Canis (probably descended from the common wolf) that has been domesticated by man since prehistoric times; occurs in many breeds\n",
      "[Synset('canine.n.02'), Synset('domestic_animal.n.01')]\n",
      "[Synset('basenji.n.01'), Synset('corgi.n.01'), Synset('cur.n.01'), Synset('dalmatian.n.02'), Synset('great_pyrenees.n.01'), Synset('griffon.n.02'), Synset('hunting_dog.n.01'), Synset('lapdog.n.01'), Synset('leonberg.n.01'), Synset('mexican_hairless.n.01'), Synset('newfoundland.n.01'), Synset('pooch.n.01'), Synset('poodle.n.01'), Synset('pug.n.01'), Synset('puppy.n.01'), Synset('spitz.n.01'), Synset('toy_dog.n.01'), Synset('working_dog.n.01')]\n",
      "\n",
      "someone who is morally reprehensible\n",
      "[Synset('villain.n.01')]\n",
      "[Synset('perisher.n.01')]\n",
      "\n"
     ]
    }
   ],
   "source": [
    "\n",
    "\n",
    "data = wn.synsets('dog')\n",
    "print(data)\n",
    "print(\"\")\n",
    "\n",
    "mainsense = wn.synset('dog.n.01')\n",
    "print(mainsense.definition())\n",
    "print(mainsense.hypernyms())\n",
    "print(mainsense.hyponyms())\n",
    "print(\"\")\n",
    "\n",
    "secondsense = wn.synset('dog.n.04')\n",
    "print(secondsense.definition())\n",
    "print(secondsense.hypernyms())\n",
    "print(secondsense.hyponyms())\n",
    "print(\"\")\n"
   ]
  },
  {
   "cell_type": "code",
   "execution_count": 3,
   "metadata": {
    "colab": {},
    "colab_type": "code",
    "id": "uhmYEVlNUTGc"
   },
   "outputs": [],
   "source": [
    "#Experiment: write mainsense. and then press tab to find possible functions\n",
    "\n"
   ]
  },
  {
   "cell_type": "markdown",
   "metadata": {
    "colab_type": "text",
    "id": "AddxCEc58Xfq"
   },
   "source": [
    "**How much is a dog like a bucket?**"
   ]
  },
  {
   "cell_type": "code",
   "execution_count": 4,
   "metadata": {
    "colab": {
     "base_uri": "https://localhost:8080/",
     "height": 104
    },
    "colab_type": "code",
    "executionInfo": {
     "elapsed": 12320,
     "status": "ok",
     "timestamp": 1550708030164,
     "user": {
      "displayName": "Emma Baillie",
      "photoUrl": "",
      "userId": "00010950981291118989"
     },
     "user_tz": -660
    },
    "id": "XRV2ieR4UWVc",
    "outputId": "21e45121-7e3f-4f05-d3f1-0cbcbf55a5e9"
   },
   "outputs": [
    {
     "name": "stdout",
     "output_type": "stream",
     "text": [
      "dog similarity to wolf:      2.538973871058276\n",
      "dog similarity to cat:       2.0281482472922856\n",
      "dog similarity to bucket:    1.2396908869280152\n",
      "dog similarity to glacier:   1.3350010667323402\n",
      "dog similarity to telephone: 1.2396908869280152\n"
     ]
    }
   ],
   "source": [
    "dog = wn.synset('dog.n.01')\n",
    "wolf = wn.synset('wolf.n.01')\n",
    "cat = wn.synset('cat.n.01')\n",
    "bucket = wn.synset('bucket.n.01')\n",
    "telephone = wn.synset('telephone.n.01')\n",
    "glacier = wn.synset('glacier.n.01')\n",
    "\n",
    "print(\"dog similarity to wolf:     \",dog.lch_similarity(wolf))\n",
    "print(\"dog similarity to cat:      \",dog.lch_similarity(cat))\n",
    "print(\"dog similarity to bucket:   \",dog.lch_similarity(bucket))\n",
    "print(\"dog similarity to glacier:  \",dog.lch_similarity(glacier))\n",
    "print(\"dog similarity to telephone:\",dog.lch_similarity(telephone))\n"
   ]
  },
  {
   "cell_type": "markdown",
   "metadata": {
    "colab_type": "text",
    "id": "DEXrt_TNSnO1"
   },
   "source": [
    "![similarity](https://lh3.googleusercontent.com/UNd5lFj8qDAKFu1nJXuH_8FAH1mJCfiIAPdWIpmsVDcD3MYVgtWiap4XiY2o4PiqDI-KqGR8ylkK-7bCG9s9u1EyMXtJhgGAAc0BgBGoqrL_7K2KH4rKIH12ke4Q4oveZLxeo5Ff2CXKdLT9KkwzAFbenjkb_MyNv5Nh5Wz9W0c2_KbgfeyTiptI7Y7WD8ZTrZvL350c1m39ce2xByYmciJeD_bCYX7aERLqMHyOe14gdg3c8psWeW_CXLDWztVsF1oelOVs7jJKmeNbglb-E3uteY4t19f0x5uOHm6m2CwTG3-qDQhhkak_Pt2tV4xGfuU2dc_Jbitcj0w3WvU4aNqPcKitoKN3pMfqFv86n_TmzRdZxTwRyfjYDZrNenihqRHPAXUElVvDKDH7rF_I_-sUTqTg1d9xPdEAntu9U_3pFSxaRGrT3N8a1jvuZVK6J6WTS4pgRJVg0psQHBrQEKQ_Pa597XmGYK4kuSSHqfWl1dF3GEDCyew99TY_OHXyRJYoaKSn6Boo3oIfIeSPo435UjCV5ixHmJu-mhwTMYqtCixEXx9hGNCV33VIDIphmYt1P0y8fjAzEchUNueQBQJDxojg_Q29uCZEZDSDWokoOSIsSdWIjEwpeVb9LE6abJIa__KyZ5vRX58y3zYTjk_HvgH4H-s=w411-h240-no)"
   ]
  },
  {
   "cell_type": "markdown",
   "metadata": {
    "colab_type": "text",
    "id": "OYfVjYFNF9Od"
   },
   "source": [
    "\n",
    "\n",
    "**Now let's get some text**\n",
    "\n",
    "\n",
    "You can read text from your own computer, or somewhere on the web.\n",
    "\n",
    "This function has been written to get documents from Project Gutenberg, and extract the interesting bits"
   ]
  },
  {
   "cell_type": "code",
   "execution_count": 5,
   "metadata": {
    "cellView": "form",
    "colab": {
     "base_uri": "https://localhost:8080/",
     "height": 173
    },
    "colab_type": "code",
    "executionInfo": {
     "elapsed": 1019,
     "status": "ok",
     "timestamp": 1550708453280,
     "user": {
      "displayName": "Emma Baillie",
      "photoUrl": "",
      "userId": "00010950981291118989"
     },
     "user_tz": -660
    },
    "id": "X9mfmsQ1Jbgz",
    "outputId": "bf53035d-a4d9-4e65-df9f-11dfa5aa369e"
   },
   "outputs": [
    {
     "name": "stdout",
     "output_type": "stream",
     "text": [
      "\n",
      "  readGutenberg(fileName)\n",
      "  Read data from Project Gutenberg files\n",
      "  \n",
      "\n",
      "  makeBagOfWords(text)\n",
      "  Turn plain text into a collection of words. Filter out punctuation, and \n",
      "  very common words\n",
      "  \n"
     ]
    }
   ],
   "source": [
    "#@title\n",
    "import urllib3\n",
    "from nltk import word_tokenize, sent_tokenize\n",
    "from nltk.probability import FreqDist\n",
    "from nltk.corpus import stopwords\n",
    "import re\n",
    "\n",
    "\n",
    "#@title\n",
    "def readGutenberg(fileName):\n",
    "  \"\"\"\n",
    "  readGutenberg(fileName)\n",
    "  Read data from Project Gutenberg files\n",
    "  \"\"\"\n",
    "  \n",
    "  #Code required to go to the web and read data\n",
    "  http = urllib3.PoolManager()\n",
    "  response = http.request('GET', fileName)\n",
    "  allText = response.data.decode('utf-8')    \n",
    "    \n",
    "  #start and end tags match string we always find at the start and end of a \n",
    "  #Gutenberg text -\"*** START/END OF THE/THIS PROJECT GUTENBERG EBOOK\"\n",
    "  startTag = \"\\*\\*\\*.?START OF TH.?.? PROJECT GUTENBERG EBOOK\"\n",
    "  endTag = \"\\*\\*\\*.?END OF TH.?.? PROJECT GUTENBERG EBOOK\"\n",
    "  \n",
    "  #search for the start and end tags, and return everything between them\n",
    "  s = re.search(startTag,allText).end()\n",
    "  e = re.search(endTag,allText).start()\n",
    "  textChunk = allText[s:e]\n",
    "  return textChunk\n",
    "      \n",
    "\n",
    "#@title\n",
    "def makeBagOfWords(text):\n",
    "  \"\"\"\n",
    "  makeBagOfWords(text)\n",
    "  Turn plain text into a collection of words. Filter out punctuation, and \n",
    "  very common words\n",
    "  \"\"\"\n",
    "  \n",
    "  #Cut the text into tokens\n",
    "  tokens = word_tokenize(text)\n",
    "  \n",
    "  #Filter these tokens, keeping only the alphanumeric ones\n",
    "  real_word_tokens = [word.lower() for word in tokens if word.isalnum()]  \n",
    "  \n",
    "  #Filter the real words, taking out common words like \"and\" or \"which\"\n",
    "  important_word_tokens = [w for w in real_word_tokens if w not in stopwords.words('english')]\n",
    "  \n",
    "  #Return as a bag of words, with information about how often words are found\n",
    "  #in the text\n",
    "  return FreqDist(important_word_tokens)\n",
    "\n",
    "print(readGutenberg.__doc__)\n",
    "print(makeBagOfWords.__doc__)\n"
   ]
  },
  {
   "cell_type": "markdown",
   "metadata": {
    "colab_type": "text",
    "id": "nzjDe_njXvoe"
   },
   "source": [
    "![text with similarities](https://lh3.googleusercontent.com/waqA2ow-NAsEWabhDwKZxamXNuKZY2yGdDiEKyhQ8fnED4YZno1b7M34wACq9lSCrTvHS_ul5sKgMYe0Yk3qNN1MsPgR_5ST3OR0Q5BwwPOo8a11EKqL47_Uq1nLhg6qbhYIDH_gAdIkmVGkQPEGULVh-U0MzI7Hug75ta48BayM5v0CeniLliE9z2fVq2Sle9LJ05xNxS3DhZ-Cp16qINLtQbTWO0YstQBlkIrvuo5z7q4fboDgt_B7hMWu-mC18TfDVLEfNiekadaLFeSkuVXPhbwOGDHbzQat8j1f0VTxHONYd7pvi0YtGJses_B0v9mUo4UDxflJuLHYqAOSmdQ5ueLlvM7B7xegmu3xl8vtVjA_jCZB1ExMTuBzeQRfhVZ-cuMpBN3M7bFom7QRKillapq9Y24-V06pfiwqr0XW9a7zzyWbghOEe56ZfNz_rmMg99mnWbhITdYrmYlaEm_3N8MKBb6JuRGVL2BAn9Ec0Tam8AxLgsjwSJn1qtC8RQehaiKzaT0oLfJ7sHpl445UvVTylWoUzyIc5b7gVPme2wa8PvejmcMHe-yfbPLk9XyXPMw_vNWHMI8k2e6q5AZoKtH89qhXjNe2nlVmXdGlTZ267igqFBNSu1LdtDz7tRYDGbvDoplhXtE3XHevmPSLeDc3zcg=w560-h270-no)"
   ]
  },
  {
   "cell_type": "markdown",
   "metadata": {
    "colab_type": "text",
    "id": "e8UmZGC-nc7_"
   },
   "source": [
    "**And use it**\n",
    "\n",
    "I've chosen to use a text from Project Gutenberg for this demonstration. If you like, you can experiment with a different one later"
   ]
  },
  {
   "cell_type": "code",
   "execution_count": 6,
   "metadata": {
    "cellView": "form",
    "colab": {},
    "colab_type": "code",
    "id": "XHHtdXnxpZeF"
   },
   "outputs": [],
   "source": [
    "#@title\n",
    "g_t = 'http://www.gutenberg.org/files/829/829-0.txt' \n",
    "p_p = 'http://www.gutenberg.org/files/1342/1342-0.txt' \n",
    "w_n = 'http://www.gutenberg.org/cache/epub/3300/pg3300.txt' \n",
    "m_r = 'http://www.gutenberg.org/cache/epub/9660/pg9660.txt' \n",
    "t_c = 'http://www.gutenberg.org/cache/epub/14504/pg14504.txt' \n",
    "d_d = 'http://www.gutenberg.org/files/44917/44917-0.txt' \n",
    "a_c = 'http://www.gutenberg.org/cache/epub/13476/pg13476.txt' "
   ]
  },
  {
   "cell_type": "code",
   "execution_count": 7,
   "metadata": {
    "colab": {
     "base_uri": "https://localhost:8080/",
     "height": 590
    },
    "colab_type": "code",
    "executionInfo": {
     "elapsed": 1089,
     "status": "ok",
     "timestamp": 1550708468683,
     "user": {
      "displayName": "Emma Baillie",
      "photoUrl": "",
      "userId": "00010950981291118989"
     },
     "user_tz": -660
    },
    "id": "tuYzRdBfLXzf",
    "outputId": "b61f086d-8786-469b-b483-8a6758963215"
   },
   "outputs": [
    {
     "name": "stdout",
     "output_type": "stream",
     "text": [
      " ON THE ORIGIN OF SPECIES ***\r\n",
      "\r\n",
      "\r\n",
      "\r\n",
      "\r\n",
      "Produced by Sue Asscher\r\n",
      "\r\n",
      "\r\n",
      "\r\n",
      "\r\n",
      "\r\n",
      "THE ORIGIN OF SPECIES BY MEANS OF NATURAL SELECTION;\r\n",
      "\r\n",
      "or, the PRESERVATION OF FAVOURED RACES IN THE STRUGGLE FOR LIFE.\r\n",
      "\r\n",
      "By Charles Darwin, M.A., F.R.S.,\r\n",
      "\r\n",
      "Author of \"The Descent of Man,\" etc., etc.\r\n",
      "\r\n",
      "\r\n",
      "Sixth London Edition, with all Additions and Corrections.\r\n",
      "\r\n",
      "The 6th Edition is often considered the definitive edition.\r\n",
      "\r\n",
      "Also see Project Gutenberg Etext #1228 for the First Edition.\r\n",
      "\r\n",
      "\r\n",
      "\r\n",
      "\"But with regard to the material world, we can at least go so far as\r\n",
      "this--we can perceive that events are brought about not by insulated\r\n",
      "interpositions of Divine power, exerted in each particular case, but by\r\n",
      "the establishment of general laws.\"--Whewell: \"Bridgewater Treatise\".\r\n",
      "\r\n"
     ]
    }
   ],
   "source": [
    "o_s = 'http://www.gutenberg.org/cache/epub/2009/pg2009.txt'\n",
    "\n",
    "\n",
    "myText = readGutenberg(o_s)\n",
    "print(myText[0:760])"
   ]
  },
  {
   "cell_type": "code",
   "execution_count": 8,
   "metadata": {
    "colab": {
     "base_uri": "https://localhost:8080/",
     "height": 72
    },
    "colab_type": "code",
    "executionInfo": {
     "elapsed": 31764,
     "status": "ok",
     "timestamp": 1550708514372,
     "user": {
      "displayName": "Emma Baillie",
      "photoUrl": "",
      "userId": "00010950981291118989"
     },
     "user_tz": -660
    },
    "id": "aFW6eG2PNeu_",
    "outputId": "0cb0f59a-04e5-4cc1-8757-e43738aa9536"
   },
   "outputs": [
    {
     "name": "stdout",
     "output_type": "stream",
     "text": [
      "The twenty commonest words:  [('species', 1881), ('one', 797), ('would', 703), ('may', 662), ('many', 615), ('selection', 559), ('forms', 559), ('natural', 532), ('varieties', 481), ('plants', 466), ('two', 462), ('animals', 429), ('thus', 390), ('several', 367), ('different', 363), ('great', 361), ('distinct', 359), ('life', 350), ('case', 343), ('nature', 327)] \n",
      "\n"
     ]
    }
   ],
   "source": [
    "word_bag = makeBagOfWords(myText)\n",
    "print(\"The twenty commonest words: \",word_bag.most_common(20),\"\\n\")\n"
   ]
  },
  {
   "cell_type": "markdown",
   "metadata": {
    "colab_type": "text",
    "id": "EUoI3ghBQ2_v"
   },
   "source": [
    "![A Bag of Words](https://lh3.googleusercontent.com/28Xy7kZW6eHP7JZQiFa6DGhcRzGCR_afwsf0WsGh24bDmmTw_O_Pzcwks2NcmFLJ_WGViNnT40JHxrdOYTlfmvzHOy7hQxPwhAnBT1vSwR9UfLD6dH7ZM8lTf99iCl4YjfovyqadbdO6U-vrX2YyFqZRdCu3KbyIDHW37UlF4d2Bv7CugaPuCC4-V8MrnixNExxk5_8lmBEjV5u1KVs32CKaoxPef2W-O4rOL7plgljozDX0AyM3N7pCW2MRy7o04vEnSNF4-V6j3Ubdk9f2nzFhZErC6yX-IDdXPdYjOhCKIErKpp4FiHM-AkfM-axfGTpDNwJbpCpCwUb4ZIwAqIAhVualudbjvqeWMDxqso0L-q5yxb4-1ONDpIcqLC1i0fPaG9S3SdZGxvYIC_nfWDsoTC7UryywwKGwHirFEyiGZ8n9x8RsKeLREGWnxZSRA8o9wWirKkALCnCgXKwLlMSvjUjFnT_qXLEsRqESLJPKmtpQJGISBrLz_8Z7h9OtKdF9u9RiRQgxgOReHhSer8CR0L66DA_fvdEpYDs7iNWUg141R2UUu8XEa_jwx56LcTYf2EDLBlCBpDXWOKoRHgGnis5lfa82jrNZQ7VK6OUwGSZGZtj44mdaK0AUPQ1nTNHglzG0RgFM_k4Beds3WdAKjiQHo-Y=w164-h238-no)"
   ]
  },
  {
   "cell_type": "code",
   "execution_count": 9,
   "metadata": {
    "cellView": "form",
    "colab": {
     "base_uri": "https://localhost:8080/",
     "height": 121
    },
    "colab_type": "code",
    "executionInfo": {
     "elapsed": 1000,
     "status": "ok",
     "timestamp": 1550708537330,
     "user": {
      "displayName": "Emma Baillie",
      "photoUrl": "",
      "userId": "00010950981291118989"
     },
     "user_tz": -660
    },
    "id": "7ZpT53bCSDN2",
    "outputId": "e8284b74-a99c-4f54-b126-8fd6bbb040b2"
   },
   "outputs": [
    {
     "name": "stdout",
     "output_type": "stream",
     "text": [
      "\n",
      "    show_similar_word_proportions(words,document,threshold=2.0,count=2000)\n",
      "    \n",
      "    Calculate how much of a document consists of similar words, \n",
      "    and report back\n",
      "    \n"
     ]
    }
   ],
   "source": [
    "#@title\n",
    "import matplotlib.pyplot as plt\n",
    "plt.rcParams[\"figure.figsize\"] = [16,12]\n",
    "import pylab\n",
    "pylab.show() \n",
    "\n",
    "#@title\n",
    "def similar_word_proportions(word,document,threshold=2.0,count=2000):\n",
    "    \"\"\"\n",
    "    similar_word_proportions(word,document,threshold=2.0,count=2000)\n",
    "    \n",
    "    Calculate how much of a document consists of similar words\n",
    "    \"\"\"\n",
    "    insts=0 #a running count of words similar to this one\n",
    "    sim_dict={} #dictionary of words similar to 'word'\n",
    "    considered_text=0 #a running count of all words considered in the text\n",
    "    syn1=wn.synsets(word)[0] #primary sense of the word 'word'\n",
    "    \n",
    "    for w,f in document.most_common(count):\n",
    "        if w.isalpha() and wn.synsets(w) != []:\n",
    "            w0=wn.synsets(w)[0]\n",
    "            if w0.pos()==syn1.pos():\n",
    "                sim = syn1.lch_similarity(w0) # best thresh 1.5 to 2.0\n",
    "                considered_text=considered_text+f\n",
    "                if sim>threshold:\n",
    "                    insts=insts+f\n",
    "                    sim_dict[w]=sim\n",
    "                    \n",
    "    return 100*insts/considered_text,sim_dict\n",
    "  \n",
    "#@title\n",
    "def show_similar_word_proportions(words,document,threshold=2.0,count=2000):\n",
    "    \"\"\"\n",
    "    show_similar_word_proportions(words,document,threshold=2.0,count=2000)\n",
    "    \n",
    "    Calculate how much of a document consists of similar words, \n",
    "    and report back\n",
    "    \"\"\"\n",
    "    for word in words:\n",
    "      p,e=similar_word_proportions(word,document,threshold,count)\n",
    "      print(\"{0:2.2f}% of the text is like the word \\'{1}\\'\".format(p,word))\n",
    "      print(\"Primary sense:{0}\".format(wn.synsets(word)[0].definition()))\n",
    "      print(\"Examples:{0}\".format(e.keys()))\n",
    "  \n",
    "    \n",
    "#@title\n",
    "def display_similar_word_proportions(words,document,threshold=2.0,count=2000):\n",
    "    \"\"\"\n",
    "    display_similar_word_proportions(words,document,threshold=2.0,count=2000)\n",
    "    \n",
    "    Plot the occurrences of the specific words in the wordbag,\n",
    "    compared to the occurrences of similar words\n",
    "    \n",
    "    \"\"\"\n",
    "    pcts=[]\n",
    "    sims={}\n",
    "    fs=[]\n",
    "    labels=[]\n",
    "    for word in words:\n",
    "        f = document.freq(word)\n",
    "        if wn.synsets(word) != [] and wn.synsets(word)[0].pos()=='n':\n",
    "            pct,sim=similar_word_proportions(word,document,threshold,count)\n",
    "            pcts.append(pct)\n",
    "            labels.append(word)\n",
    "            fs.append(f)\n",
    "            sims[word]=sim\n",
    "    plt.figure(0)\n",
    "    plt.scatter(pcts,fs)\n",
    "    plt.xlabel(\"Percent of document similar\")\n",
    "    plt.ylabel(\"Core Word Frequency\")\n",
    "    for i, txt in enumerate(labels):\n",
    "        plt.annotate(txt, (pcts[i], fs[i]), (pcts[i], fs[i]),fontsize=20)\n",
    "    plt.show()        \n",
    "\n",
    "print(show_similar_word_proportions.__doc__)"
   ]
  },
  {
   "cell_type": "code",
   "execution_count": 10,
   "metadata": {
    "colab": {
     "base_uri": "https://localhost:8080/",
     "height": 89
    },
    "colab_type": "code",
    "executionInfo": {
     "elapsed": 51628,
     "status": "ok",
     "timestamp": 1550708595334,
     "user": {
      "displayName": "Emma Baillie",
      "photoUrl": "",
      "userId": "00010950981291118989"
     },
     "user_tz": -660
    },
    "id": "nIrnBWULzIs9",
    "outputId": "a69355b5-822d-4865-a1d2-46a9c6ffa335"
   },
   "outputs": [
    {
     "name": "stdout",
     "output_type": "stream",
     "text": [
      "8.37% of the text is like the word 'animal'\n",
      "Primary sense:a living organism characterized by voluntary movement\n",
      "Examples:dict_keys(['natural', 'animals', 'great', 'birds', 'individuals', 'insects', 'young', 'inhabitants', 'man', 'animal', 'offspring', 'individual', 'mammals', 'probable', 'male', 'males', 'bird', 'fishes', 'insect', 'crustaceans', 'adult', 'organisms', 'embryo', 'american', 'fish', 'larvae', 'females', 'female', 'authors', 'equal', 'organism', 'european', 'slaves', 'longer', 'dogs', 'relative', 'independent', 'workers', 'quadrupeds', 'cirripedes', 'white', 'objects', 'reptiles', 'dog', 'embryos', 'aquatic', 'object', 'beetles', 'native', 'author', 'australian', 'judge', 'chief', 'larva', 'geologists', 'indian', 'palaeontologists', 'progeny', 'ostrich', 'observer', 'whales', 'whale', 'pupae', 'modern', 'ancestor', 'irregular', 'watson', 'monstrosities', 'observers', 'beasts', 'competitors', 'vertebrate', 'creature', 'possessor', 'batrachians', 'child', 'greyhound', 'carrier', 'savages', 'inferior', 'suspect', 'entire', 'closer', 'aberrant', 'geologist', 'caterpillar', 'pouter', 'quadruped', 'natives', 'straight', 'molluscs'])\n"
     ]
    }
   ],
   "source": [
    "\n",
    "show_similar_word_proportions(['animal'],word_bag)\n"
   ]
  },
  {
   "cell_type": "code",
   "execution_count": 11,
   "metadata": {
    "colab": {
     "base_uri": "https://localhost:8080/",
     "height": 245
    },
    "colab_type": "code",
    "executionInfo": {
     "elapsed": 1881,
     "status": "ok",
     "timestamp": 1550709417217,
     "user": {
      "displayName": "Emma Baillie",
      "photoUrl": "",
      "userId": "00010950981291118989"
     },
     "user_tz": -660
    },
    "id": "PBkoTio7U9UA",
    "outputId": "40f60c2c-eec5-450f-f1f2-dd39f0ab2d60"
   },
   "outputs": [
    {
     "name": "stdout",
     "output_type": "stream",
     "text": [
      "4.69% of the text is like the word 'species'\n",
      "Primary sense:(biology) taxonomic group whose members can interbreed\n",
      "Examples:dict_keys(['species', 'groups', 'group', 'breeds', 'descendants', 'breed', 'vertebrata', 'aphides', 'mammalia', 'crustacea', 'polyzoa', 'molothrus'])\n",
      "8.37% of the text is like the word 'animals'\n",
      "Primary sense:a living organism characterized by voluntary movement\n",
      "Examples:dict_keys(['natural', 'animals', 'great', 'birds', 'individuals', 'insects', 'young', 'inhabitants', 'man', 'animal', 'offspring', 'individual', 'mammals', 'probable', 'male', 'males', 'bird', 'fishes', 'insect', 'crustaceans', 'adult', 'organisms', 'embryo', 'american', 'fish', 'larvae', 'females', 'female', 'authors', 'equal', 'organism', 'european', 'slaves', 'longer', 'dogs', 'relative', 'independent', 'workers', 'quadrupeds', 'cirripedes', 'white', 'objects', 'reptiles', 'dog', 'embryos', 'aquatic', 'object', 'beetles', 'native', 'author', 'australian', 'judge', 'chief', 'larva', 'geologists', 'indian', 'palaeontologists', 'progeny', 'ostrich', 'observer', 'whales', 'whale', 'pupae', 'modern', 'ancestor', 'irregular', 'watson', 'monstrosities', 'observers', 'beasts', 'competitors', 'vertebrate', 'creature', 'possessor', 'batrachians', 'child', 'greyhound', 'carrier', 'savages', 'inferior', 'suspect', 'entire', 'closer', 'aberrant', 'geologist', 'caterpillar', 'pouter', 'quadruped', 'natives', 'straight', 'molluscs'])\n",
      "3.57% of the text is like the word 'microbes'\n",
      "Primary sense:a minute life form (especially a disease-causing bacterium); the term is not in technical use\n",
      "Examples:dict_keys(['animals', 'individuals', 'young', 'inhabitants', 'animal', 'individual', 'male', 'males', 'adult', 'organisms', 'embryo', 'larvae', 'females', 'female', 'equal', 'organism', 'slaves', 'longer', 'relative', 'workers', 'white', 'embryos', 'aquatic', 'native', 'larva', 'ostrich', 'observer', 'modern', 'monstrosities', 'observers', 'beasts', 'creature', 'possessor', 'suspect', 'closer', 'natives', 'straight'])\n",
      "3.73% of the text is like the word 'selection'\n",
      "Primary sense:the act of choosing or selecting\n",
      "Examples:dict_keys(['selection', 'modification', 'means', 'productions', 'action', 'use', 'work', 'process', 'modifications', 'creation', 'migration', 'production', 'objections', 'making', 'offer', 'pass', 'support', 'objection', 'causing', 'movement', 'escape', 'step', 'passage', 'attempt', 'transition', 'discovery', 'movements', 'leaving', 'degradation', 'search', 'error', 'taking', 'occurrence', 'protection', 'disappearance', 'acting', 'throw', 'reduction', 'transitions', 'coming', 'opposition', 'practice', 'admission'])\n"
     ]
    }
   ],
   "source": [
    "show_similar_word_proportions(['species','animals','microbes','selection'],word_bag)\n"
   ]
  },
  {
   "cell_type": "markdown",
   "metadata": {
    "colab_type": "text",
    "id": "a_6Vk14pc4oB"
   },
   "source": [
    "**Challenge - use the functions from this notebook to find which concept is most often found in the text**"
   ]
  },
  {
   "cell_type": "code",
   "execution_count": 12,
   "metadata": {
    "colab": {
     "base_uri": "https://localhost:8080/",
     "height": 54
    },
    "colab_type": "code",
    "executionInfo": {
     "elapsed": 974,
     "status": "ok",
     "timestamp": 1550708712533,
     "user": {
      "displayName": "Emma Baillie",
      "photoUrl": "",
      "userId": "00010950981291118989"
     },
     "user_tz": -660
    },
    "id": "TX1mAXHWddRi",
    "outputId": "1593104a-e55b-439a-e12a-66c65a276c3e"
   },
   "outputs": [
    {
     "name": "stdout",
     "output_type": "stream",
     "text": [
      "[('species', 1881), ('one', 797), ('would', 703), ('may', 662), ('many', 615), ('selection', 559), ('forms', 559), ('natural', 532), ('varieties', 481), ('plants', 466)]\n"
     ]
    }
   ],
   "source": [
    "#What we have to work with:\n",
    "\n",
    "##a collection of words from the text \"The Origin of Species\"\n",
    "word_bag \n",
    "\n",
    "##function that tells us what words are the most common (change the number!)\n",
    "print(word_bag.most_common(10))\n",
    "\n",
    "##WordNet function for finding synonyms of words (change the word!)\n",
    "#wn.synsets('animal')\n",
    "\n",
    "#find out how much of the text is similar to these words - enter some words in the list\n",
    "#show_similar_word_proportions([],word_bag) \n",
    "\n",
    "#Extra Challenge\n",
    "#More suggestions of functions for finding concepts in the document wn.synset('animal.n.01').lemma_names() .hypernyms() .definition() .examples()\n",
    "\n"
   ]
  },
  {
   "cell_type": "code",
   "execution_count": 15,
   "metadata": {
    "colab": {
     "base_uri": "https://localhost:8080/",
     "height": 714
    },
    "colab_type": "code",
    "executionInfo": {
     "elapsed": 5204,
     "status": "ok",
     "timestamp": 1550709287955,
     "user": {
      "displayName": "Emma Baillie",
      "photoUrl": "",
      "userId": "00010950981291118989"
     },
     "user_tz": -660
    },
    "id": "8Qit7zw84iAA",
    "outputId": "32d41434-8272-44af-ff0d-2f628aeda685"
   },
   "outputs": [
    {
     "data": {
      "image/png": "[encoded data removed]",
      "text/plain": [
       "<Figure size 1152x864 with 1 Axes>"
      ]
     },
     "metadata": {},
     "output_type": "display_data"
    }
   ],
   "source": [
    "plt.rcParams[\"figure.figsize\"] = [16,12]\n",
    "\n",
    "display_similar_word_proportions(['origin','species'],word_bag)\n"
   ]
  }
 ],
 "metadata": {
  "colab": {
   "name": "Copy of NLTK Presentation.ipynb",
   "provenance": [
    {
     "file_id": "1IY7uFwkEz6inaV75FROSR6scwejkRYx4",
     "timestamp": 1550707190359
    }
   ],
   "version": "0.3.2"
  },
  "kernelspec": {
   "display_name": "Python 3",
   "language": "python",
   "name": "python3"
  },
  "language_info": {
   "codemirror_mode": {
    "name": "ipython",
    "version": 3
   },
   "file_extension": ".py",
   "mimetype": "text/x-python",
   "name": "python",
   "nbconvert_exporter": "python",
   "pygments_lexer": "ipython3",
   "version": "3.6.5"
  }
 },
 "nbformat": 4,
 "nbformat_minor": 1
}
